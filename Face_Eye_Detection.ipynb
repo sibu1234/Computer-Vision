{
 "cells": [
  {
   "cell_type": "markdown",
   "metadata": {},
   "source": [
    "## Face and Eye Detection Using HAAR Cascade Classifier "
   ]
  },
  {
   "cell_type": "code",
   "execution_count": 1,
   "metadata": {},
   "outputs": [],
   "source": [
    "import numpy as np\n",
    "import cv2\n",
    "\n",
    "face_classifier = cv2.CascadeClassifier('C:\\\\Users\\\\Admin\\\\Deep Learning\\\\Open CV\\\\Haarcascades\\\\haarcascade_frontalface_default.xml')\n",
    "\n",
    "img = cv2.imread('C:\\\\Users\\\\Admin\\\\Deep Learning\\\\Open CV\\\\image_examples\\\\Modi.jpg')\n",
    "gray = cv2.cvtColor(img, cv2.COLOR_BGR2GRAY)\n",
    "\n",
    "faces = face_classifier.detectMultiScale(gray,1.3,5)\n",
    "\n",
    "if faces is():\n",
    "    print('no face found')\n",
    "    \n",
    "   \n",
    "for (x,y,w,h) in faces:\n",
    "    cv2.rectangle(img, (x,y), (x+w,y+h), (127,0,255),2)\n",
    "    cv2.imshow('img',img)\n",
    "    cv2.waitKey(0)\n",
    "    \n",
    "cv2.destroyAllWindows()"
   ]
  },
  {
   "cell_type": "markdown",
   "metadata": {},
   "source": [
    "### Let's Combine Face and Eye Detection."
   ]
  },
  {
   "cell_type": "code",
   "execution_count": 2,
   "metadata": {},
   "outputs": [],
   "source": [
    "import numpy as np\n",
    "import cv2\n",
    "\n",
    "face_classifier = cv2.CascadeClassifier('C:\\\\Users\\\\Admin\\\\Deep Learning\\\\Open CV\\\\Haarcascades\\\\haarcascade_frontalface_default.xml')\n",
    "eyes_classifier = cv2.CascadeClassifier('C:\\\\Users\\\\Admin\\\\Deep Learning\\\\Open CV\\\\Haarcascades\\\\haarcascade_eye.xml')\n",
    "\n",
    "img = cv2.imread('C:\\\\Users\\\\Admin\\\\Deep Learning\\\\Open CV\\\\image_examples\\\\Boris.jpg')\n",
    "gray = cv2.cvtColor(img, cv2.COLOR_BGR2GRAY)\n",
    "\n",
    "faces = face_classifier.detectMultiScale(gray,1.3,5)\n",
    "\n",
    "if faces is():\n",
    "    print('no face found')\n",
    "    \n",
    "   \n",
    "for (x,y,w,h) in faces:\n",
    "    cv2.rectangle(img, (x,y), (x+w,y+h), (127,0,255),2)\n",
    "    cv2.imshow('img',img)\n",
    "    cv2.waitKey(0)\n",
    "    roi_gray = gray[y:y+h , x:x+w]\n",
    "    roi_color = img[y:y+h , x:x+w]\n",
    "    eyes = eyes_classifier.detectMultiScale(roi_gray)\n",
    "    for (ex,ey,ew,eh) in eyes:\n",
    "        cv2.rectangle(roi_color,(ex,ey),(ex+ew,ey+eh),(225,225,0),2)\n",
    "        cv2.imshow('img',img)\n",
    "        cv2.waitKey(0)\n",
    "        \n",
    "    \n",
    "cv2.destroyAllWindows()"
   ]
  },
  {
   "cell_type": "markdown",
   "metadata": {},
   "source": [
    "### Let's make a live face and eye detection, keeping the face inview all the times"
   ]
  },
  {
   "cell_type": "code",
   "execution_count": 8,
   "metadata": {},
   "outputs": [],
   "source": [
    "import numpy as np\n",
    "import cv2\n",
    "face_classifier = cv2.CascadeClassifier('C:\\\\Users\\\\Admin\\\\Deep Learning\\\\Open CV\\\\Haarcascades\\\\haarcascade_frontalface_default.xml')\n",
    "eyes_classifier = cv2.CascadeClassifier('C:\\\\Users\\\\Admin\\\\Deep Learning\\\\Open CV\\\\Haarcascades\\\\haarcascade_eye.xml')\n",
    "\n",
    "def face_detector(img, size=0.5):\n",
    "    #convert imsge to gray scale\n",
    "    gray = cv2.cvtColor(img, cv2.COLOR_BGR2GRAY)\n",
    "    faces = face_classifier.detectMultiScale(gray,1.3,5)\n",
    "    if faces is():\n",
    "        return img\n",
    "    for (x,y,w,h) in faces:\n",
    "        x = x - 50\n",
    "        w = w + 50\n",
    "        y = y - 50\n",
    "        h = h + 50\n",
    "        cv2.rectangle(img, (x,y), (x+w,y+h),(225,0,0),2)\n",
    "        roi_gray = gray[y:y+h , x:x+w]\n",
    "        roi_color = img[y:y+h , x:x+w]\n",
    "        eyes = eyes_classifier.detectMultiScale(roi_gray)\n",
    "        \n",
    "        for (ex,ey,ew,eh) in eyes:\n",
    "            cv2.rectangle(roi_color, (ex,ey),(ex+ew,ey+eh),(0,0,225),2)\n",
    "            \n",
    "           \n",
    "    roi_color = cv2.flip(roi_color,1)\n",
    "    return roi_color\n",
    "\n",
    "cap = cv2.VideoCapture(0)\n",
    "\n",
    "while True:\n",
    "    ret, frame = cap.read()\n",
    "    cv2.imshow('our face Extractor',face_detector(frame))\n",
    "    if cv2.waitKey(1) == 13: # 13 is the enter key.\n",
    "        break\n",
    "        \n",
    "cap.release()\n",
    "cv2.destroyAllWindows()"
   ]
  },
  {
   "cell_type": "code",
   "execution_count": null,
   "metadata": {},
   "outputs": [],
   "source": []
  }
 ],
 "metadata": {
  "kernelspec": {
   "display_name": "Python 3",
   "language": "python",
   "name": "python3"
  },
  "language_info": {
   "codemirror_mode": {
    "name": "ipython",
    "version": 3
   },
   "file_extension": ".py",
   "mimetype": "text/x-python",
   "name": "python",
   "nbconvert_exporter": "python",
   "pygments_lexer": "ipython3",
   "version": "3.7.4"
  }
 },
 "nbformat": 4,
 "nbformat_minor": 4
}
